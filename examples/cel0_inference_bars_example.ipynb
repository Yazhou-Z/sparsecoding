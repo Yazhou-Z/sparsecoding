{
 "cells": [
  {
   "cell_type": "code",
   "execution_count": 1,
   "id": "116276f7",
   "metadata": {},
   "outputs": [
    {
     "name": "stderr",
     "output_type": "stream",
     "text": [
      "/Users/zhou/opt/anaconda3/envs/sparsecoding/lib/python3.10/site-packages/tqdm/auto.py:22: TqdmWarning: IProgress not found. Please update jupyter and ipywidgets. See https://ipywidgets.readthedocs.io/en/stable/user_install.html\n",
      "  from .autonotebook import tqdm as notebook_tqdm\n"
     ]
    }
   ],
   "source": [
    "import os\n",
    "import time\n",
    "import torch\n",
    "\n",
    "import matplotlib.pyplot as plt\n",
    "import numpy as np\n",
    "\n",
    "from sparsecoding import inference\n",
    "\n",
    "from sparsecoding.data.utils import load_bars_dictionary\n",
    "from sparsecoding.visualization import plot_dictionary"
   ]
  },
  {
   "cell_type": "markdown",
   "id": "7c1e8bb3",
   "metadata": {},
   "source": [
    "## Load bar dictionary\n",
    "\n",
    "A good way of evaluating whether or not a inference method is working correctly is by generating data from a known dictionary. In this notebook, this is done using a dictionary consisting of horizontal/vertical bars. This dictionary is provided in a pickle file in this rep"
   ]
  },
  {
   "cell_type": "code",
   "execution_count": 2,
   "id": "a9532c7e",
   "metadata": {},
   "outputs": [
    {
     "data": {
      "image/png": "[encoded data removed]",
      "text/plain": [
       "<Figure size 800x800 with 1 Axes>"
      ]
     },
     "metadata": {},
     "output_type": "display_data"
    }
   ],
   "source": [
    "patch_size = 16\n",
    "n_basis = 2*patch_size\n",
    "\n",
    "# load bars dictionary \n",
    "dictionary = load_bars_dictionary()\n",
    "dictionary = dictionary / dictionary.norm(dim=0,keepdim=True) \n",
    "patch_size = int(np.sqrt(dictionary.shape[0]))\n",
    "n_basis = dictionary.shape[1]\n",
    "\n",
    "nrow = 8\n",
    "fig,ax = plot_dictionary(dictionary,nrow=nrow,size=8)"
   ]
  },
  {
   "cell_type": "code",
   "execution_count": 3,
   "id": "742ff9e0",
   "metadata": {},
   "outputs": [
    {
     "data": {
      "text/plain": [
       "tensor(1.)"
      ]
     },
     "execution_count": 3,
     "metadata": {},
     "output_type": "execute_result"
    }
   ],
   "source": [
    "torch.norm(dictionary, p=2, dim=0, keepdim=True).squeeze()[0\n",
    "                                                           ]"
   ]
  },
  {
   "cell_type": "markdown",
   "id": "291457ef",
   "metadata": {},
   "source": [
    "## Generate random data from bars dictionary"
   ]
  },
  {
   "cell_type": "code",
   "execution_count": 4,
   "id": "93b5ed39",
   "metadata": {},
   "outputs": [],
   "source": [
    "n_samples = 100\n",
    "min_coefficient_val = 0.8\n",
    "\n",
    "# generate coefficients\n",
    "coefficients = torch.rand([n_samples,n_basis]) \n",
    "coefficients[coefficients < min_coefficient_val] = 0\n",
    "\n",
    "# generate dataset\n",
    "data = (dictionary@coefficients.t()).t()"
   ]
  },
  {
   "cell_type": "code",
   "execution_count": 5,
   "id": "ad40de0a",
   "metadata": {},
   "outputs": [
    {
     "data": {
      "image/png": "[encoded data removed]",
      "text/plain": [
       "<Figure size 400x400 with 9 Axes>"
      ]
     },
     "metadata": {},
     "output_type": "display_data"
    }
   ],
   "source": [
    "figure = plt.figure(figsize=(4,4))\n",
    "cols, rows = 3, 3\n",
    "for i in range(1, cols * rows + 1):\n",
    "    sample_idx = torch.randint(len(data), size=(1,)).item()\n",
    "    img = (data[sample_idx])\n",
    "    figure.add_subplot(rows, cols, i)\n",
    "    plt.axis(\"off\")\n",
    "    plt.imshow(img.squeeze().reshape([patch_size,patch_size]), cmap=\"gray\")\n",
    "plt.show()"
   ]
  },
  {
   "attachments": {},
   "cell_type": "markdown",
   "id": "ba432bec",
   "metadata": {},
   "source": [
    "## Reconstruct the data with CEL0 Algorithm"
   ]
  },
  {
   "cell_type": "code",
   "execution_count": 6,
   "id": "cb7fb67e",
   "metadata": {},
   "outputs": [],
   "source": [
    "# The CEL0 Algorithm\n",
    "import time\n",
    "\n",
    "n_iter = 300\n",
    "start = time.time()\n",
    "cel0 = inference.CEL0(coeff_lr=1e-1,threshold=0.1,n_iter=n_iter)\n",
    "A = cel0.infer(data, dictionary)\n",
    "\n",
    "reconstruction = (dictionary@A.t()).t()\n",
    "\n",
    "end = time.time()"
   ]
  },
  {
   "cell_type": "code",
   "execution_count": 7,
   "id": "19040166",
   "metadata": {},
   "outputs": [
    {
     "name": "stdout",
     "output_type": "stream",
     "text": [
      "Running time of 300 iterations: 0.08240795135498047\n"
     ]
    }
   ],
   "source": [
    "print(\"Running time of\", n_iter, \"iterations:\", end - start)\n",
    "# error = data - reconstruction\n",
    "# print(\"Error\", error.norm(dim=0).mean())"
   ]
  },
  {
   "cell_type": "code",
   "execution_count": 8,
   "id": "db67eacc",
   "metadata": {},
   "outputs": [
    {
     "data": {
      "image/png": "[encoded data removed]",
      "text/plain": [
       "<Figure size 1200x300 with 3 Axes>"
      ]
     },
     "metadata": {},
     "output_type": "display_data"
    }
   ],
   "source": [
    "ind = 0\n",
    "fig,(ax1,ax2,ax3)=  plt.subplots(figsize=(12,3),nrows=1, ncols=3)\n",
    "ax1.imshow(data[ind,:].detach().reshape(patch_size,patch_size))\n",
    "ax1.set_title('Image Patch')\n",
    "\n",
    "ax2.imshow(reconstruction[ind,:].detach().reshape(patch_size,patch_size))\n",
    "ax2.set_title('Reconstruction')\n",
    "\n",
    "ax3.stem(A[ind,:].reshape(-1))\n",
    "ax3.set_title('Coefficients')\n",
    "plt.show()"
   ]
  },
  {
   "cell_type": "code",
   "execution_count": 53,
   "id": "d9bee14f",
   "metadata": {},
   "outputs": [
    {
     "data": {
      "text/plain": [
       "tensor(-0.1657)"
      ]
     },
     "execution_count": 53,
     "metadata": {},
     "output_type": "execute_result"
    }
   ],
   "source": [
    "A.min()"
   ]
  },
  {
   "cell_type": "code",
   "execution_count": null,
   "id": "d8128e26",
   "metadata": {},
   "outputs": [],
   "source": []
  }
 ],
 "metadata": {
  "kernelspec": {
   "display_name": "sparsecoding",
   "language": "python",
   "name": "python3"
  },
  "language_info": {
   "codemirror_mode": {
    "name": "ipython",
    "version": 3
   },
   "file_extension": ".py",
   "mimetype": "text/x-python",
   "name": "python",
   "nbconvert_exporter": "python",
   "pygments_lexer": "ipython3",
   "version": "3.10.9"
  },
  "vscode": {
   "interpreter": {
    "hash": "f8dee6493e897117ffdd342ef2978c68dd4ef475114648de71e6f497d2bb56cc"
   }
  }
 },
 "nbformat": 4,
 "nbformat_minor": 5
}
